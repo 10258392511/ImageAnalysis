{
 "cells": [
  {
   "cell_type": "code",
   "execution_count": 1,
   "metadata": {},
   "outputs": [],
   "source": [
    "%load_ext autoreload\n",
    "%autoreload 2"
   ]
  },
  {
   "cell_type": "code",
   "execution_count": 2,
   "metadata": {},
   "outputs": [],
   "source": [
    "import numpy as np\n",
    "from PIL import Image\n",
    "import matplotlib.pyplot as plt\n",
    "\n",
    "from skimage.util import view_as_windows as viewW\n",
    "from build_dct_unitary_dictionary import build_dct_unitary_dictionary\n",
    "from show_dictionary import show_dictionary\n",
    "from batch_thresholding import batch_thresholding\n",
    "from compute_stat import compute_stat\n",
    "from unitary_dictionary_learning import unitary_dictionary_learning"
   ]
  },
  {
   "cell_type": "code",
   "execution_count": 3,
   "metadata": {},
   "outputs": [],
   "source": [
    "# A = np.random.randint(0, 10, (5, 6))\n",
    "# patches = viewW(A, (3, 4))\n",
    "# patches"
   ]
  },
  {
   "cell_type": "code",
   "execution_count": 4,
   "metadata": {},
   "outputs": [],
   "source": [
    "# cols = patches.reshape((-1, np.prod([3, 4])))\n",
    "# cols"
   ]
  },
  {
   "cell_type": "code",
   "execution_count": 21,
   "metadata": {},
   "outputs": [],
   "source": [
    "num_features = 5\n",
    "N = 8\n",
    "K = 3\n",
    "\n",
    "D, _ = np.linalg.qr(np.random.randn(num_features, num_features))\n",
    "Y = np.random.randn(num_features, N)\n",
    "X, A = batch_thresholding(D, Y, K)"
   ]
  },
  {
   "cell_type": "code",
   "execution_count": 22,
   "metadata": {},
   "outputs": [],
   "source": [
    "np.set_printoptions(precision=4, linewidth=100)"
   ]
  },
  {
   "cell_type": "code",
   "execution_count": 23,
   "metadata": {},
   "outputs": [
    {
     "data": {
      "text/plain": [
       "array([[ 2.3082, -0.5588, -2.0566, -0.0519, -0.4198,  0.9507, -0.3853, -0.1005],\n",
       "       [-1.2523, -0.8105, -0.3682, -0.0673, -0.3424, -1.0647,  1.1903, -0.5038],\n",
       "       [-0.8308, -0.7391,  0.0955,  0.1341,  0.1112,  0.4402, -0.4982, -0.007 ],\n",
       "       [ 1.1555, -0.4476, -0.0799, -0.7658,  1.1479,  0.6206, -0.8723,  0.6003],\n",
       "       [-0.8221,  0.9597,  0.1826,  0.4945, -1.087 ,  1.6467, -0.437 ,  1.02  ]])"
      ]
     },
     "execution_count": 23,
     "metadata": {},
     "output_type": "execute_result"
    }
   ],
   "source": [
    "X"
   ]
  },
  {
   "cell_type": "code",
   "execution_count": 24,
   "metadata": {},
   "outputs": [
    {
     "data": {
      "text/plain": [
       "array([[-2.5097,  0.    ,  1.2622,  0.    ,  0.    , -1.0063,  0.8822,  0.    ],\n",
       "       [ 0.568 ,  0.5815,  1.1585, -0.4607,  1.1732,  0.    , -0.7054,  0.4574],\n",
       "       [ 0.    ,  1.3166,  0.    ,  0.423 , -1.0693,  0.9942,  0.    ,  0.6942],\n",
       "       [ 0.    ,  0.    ,  0.    ,  0.    ,  0.    , -1.824 ,  1.2205, -0.9867],\n",
       "       [-1.7252,  0.7519,  1.2161,  0.682 , -0.5339,  0.    ,  0.    ,  0.    ]])"
      ]
     },
     "execution_count": 24,
     "metadata": {},
     "output_type": "execute_result"
    }
   ],
   "source": [
    "A"
   ]
  },
  {
   "cell_type": "code",
   "execution_count": null,
   "metadata": {},
   "outputs": [],
   "source": []
  }
 ],
 "metadata": {
  "@webio": {
   "lastCommId": null,
   "lastKernelId": null
  },
  "kernelspec": {
   "display_name": "Python 3",
   "language": "python",
   "name": "python3"
  },
  "language_info": {
   "codemirror_mode": {
    "name": "ipython",
    "version": 3
   },
   "file_extension": ".py",
   "mimetype": "text/x-python",
   "name": "python",
   "nbconvert_exporter": "python",
   "pygments_lexer": "ipython3",
   "version": "3.7.4"
  }
 },
 "nbformat": 4,
 "nbformat_minor": 2
}
